{
 "cells": [
  {
   "cell_type": "code",
   "execution_count": 1,
   "metadata": {},
   "outputs": [],
   "source": [
    "#1. Import the NUMPY package under the name np.\n",
    "import numpy as np"
   ]
  },
  {
   "cell_type": "code",
   "execution_count": 2,
   "metadata": {},
   "outputs": [
    {
     "name": "stdout",
     "output_type": "stream",
     "text": [
      "1.17.2\n",
      "blas_mkl_info:\n",
      "    libraries = ['mkl_rt', 'pthread']\n",
      "    library_dirs = ['/home/fran/miniconda3/envs/data_env/lib']\n",
      "    define_macros = [('SCIPY_MKL_H', None), ('HAVE_CBLAS', None)]\n",
      "    include_dirs = ['/home/fran/miniconda3/envs/data_env/include']\n",
      "blas_opt_info:\n",
      "    libraries = ['mkl_rt', 'pthread']\n",
      "    library_dirs = ['/home/fran/miniconda3/envs/data_env/lib']\n",
      "    define_macros = [('SCIPY_MKL_H', None), ('HAVE_CBLAS', None)]\n",
      "    include_dirs = ['/home/fran/miniconda3/envs/data_env/include']\n",
      "lapack_mkl_info:\n",
      "    libraries = ['mkl_rt', 'pthread']\n",
      "    library_dirs = ['/home/fran/miniconda3/envs/data_env/lib']\n",
      "    define_macros = [('SCIPY_MKL_H', None), ('HAVE_CBLAS', None)]\n",
      "    include_dirs = ['/home/fran/miniconda3/envs/data_env/include']\n",
      "lapack_opt_info:\n",
      "    libraries = ['mkl_rt', 'pthread']\n",
      "    library_dirs = ['/home/fran/miniconda3/envs/data_env/lib']\n",
      "    define_macros = [('SCIPY_MKL_H', None), ('HAVE_CBLAS', None)]\n",
      "    include_dirs = ['/home/fran/miniconda3/envs/data_env/include']\n",
      "None\n"
     ]
    }
   ],
   "source": [
    "#2. Print the NUMPY version and the configuration.\n",
    "\n",
    "print(np.__version__)\n",
    "print(np.show_config())"
   ]
  },
  {
   "cell_type": "code",
   "execution_count": 3,
   "metadata": {},
   "outputs": [],
   "source": [
    "#3. Generate a 2x3x5 3-dimensional array with random values. Assign the array to variable \"a\"\n",
    "# Challenge: there are at least three easy ways that use numpy to generate random arrays. How many ways can you find?\n",
    "\n",
    "a = np.random.random((2,3,5))"
   ]
  },
  {
   "cell_type": "code",
   "execution_count": 4,
   "metadata": {},
   "outputs": [
    {
     "name": "stdout",
     "output_type": "stream",
     "text": [
      "[[[0.57017325 0.25472743 0.89889636 0.06817568 0.616095  ]\n",
      "  [0.82009578 0.97993423 0.00969187 0.84094895 0.82068187]\n",
      "  [0.56071504 0.55910263 0.12938645 0.50158541 0.02459819]]\n",
      "\n",
      " [[0.17513407 0.78920695 0.37985644 0.36635758 0.57338747]\n",
      "  [0.15000913 0.73020715 0.62871491 0.50235813 0.07298249]\n",
      "  [0.47799292 0.69468082 0.01662388 0.90228398 0.97277774]]]\n"
     ]
    }
   ],
   "source": [
    "#4. Print a.\n",
    "print(a)"
   ]
  },
  {
   "cell_type": "code",
   "execution_count": 5,
   "metadata": {},
   "outputs": [],
   "source": [
    "#5. Create a 5x2x3 3-dimensional array with all values equaling 1.\n",
    "#Assign the array to variable \"b\"\n",
    "b = np.ones((5,2,3))"
   ]
  },
  {
   "cell_type": "code",
   "execution_count": 6,
   "metadata": {},
   "outputs": [
    {
     "name": "stdout",
     "output_type": "stream",
     "text": [
      "[[[1. 1. 1.]\n",
      "  [1. 1. 1.]]\n",
      "\n",
      " [[1. 1. 1.]\n",
      "  [1. 1. 1.]]\n",
      "\n",
      " [[1. 1. 1.]\n",
      "  [1. 1. 1.]]\n",
      "\n",
      " [[1. 1. 1.]\n",
      "  [1. 1. 1.]]\n",
      "\n",
      " [[1. 1. 1.]\n",
      "  [1. 1. 1.]]]\n"
     ]
    }
   ],
   "source": [
    "#6. Print b.\n",
    "print(b)"
   ]
  },
  {
   "cell_type": "code",
   "execution_count": 7,
   "metadata": {},
   "outputs": [
    {
     "name": "stdout",
     "output_type": "stream",
     "text": [
      "Yes, they have the same size.\n"
     ]
    }
   ],
   "source": [
    "#7. Do a and b have the same size? How do you prove that in Python code?\n",
    "if a.size == b.size:\n",
    "    print('Yes, they have the same size.')\n",
    "else:\n",
    "    print(\"No, they don't.\")"
   ]
  },
  {
   "cell_type": "code",
   "execution_count": 8,
   "metadata": {},
   "outputs": [
    {
     "name": "stdout",
     "output_type": "stream",
     "text": [
      "Whatch out! You can not add them due to having different shapes\n"
     ]
    }
   ],
   "source": [
    "#8. Are you able to add a and b? Why or why not?\n",
    "try:\n",
    "    np.add(a,b)\n",
    "except ValueError:\n",
    "    print('Whatch out! You can not add them due to having different shapes')"
   ]
  },
  {
   "cell_type": "code",
   "execution_count": 9,
   "metadata": {},
   "outputs": [],
   "source": [
    "#9. Transpose b so that it has the same structure of a (i.e. become a 2x3x5 array). Assign the transposed array to varialbe \"c\".\n",
    "\n",
    "c = b.transpose(1,2,0)\n"
   ]
  },
  {
   "cell_type": "code",
   "execution_count": 10,
   "metadata": {},
   "outputs": [
    {
     "name": "stdout",
     "output_type": "stream",
     "text": [
      "It works because they have the same shape\n"
     ]
    }
   ],
   "source": [
    "#10. Try to add a and c. Now it should work. Assign the sum to varialbe \"d\". But why does it work now?\n",
    "try:\n",
    "    d = np.add(a,c)\n",
    "except ValueError:\n",
    "    print('Whatch out! You can not add them to having different shapes')\n",
    "else:\n",
    "    print('It works because they have the same shape')"
   ]
  },
  {
   "cell_type": "code",
   "execution_count": 11,
   "metadata": {},
   "outputs": [
    {
     "name": "stdout",
     "output_type": "stream",
     "text": [
      "[[[0.57017325 0.25472743 0.89889636 0.06817568 0.616095  ]\n",
      "  [0.82009578 0.97993423 0.00969187 0.84094895 0.82068187]\n",
      "  [0.56071504 0.55910263 0.12938645 0.50158541 0.02459819]]\n",
      "\n",
      " [[0.17513407 0.78920695 0.37985644 0.36635758 0.57338747]\n",
      "  [0.15000913 0.73020715 0.62871491 0.50235813 0.07298249]\n",
      "  [0.47799292 0.69468082 0.01662388 0.90228398 0.97277774]]]\n",
      "[[[1.57017325 1.25472743 1.89889636 1.06817568 1.616095  ]\n",
      "  [1.82009578 1.97993423 1.00969187 1.84094895 1.82068187]\n",
      "  [1.56071504 1.55910263 1.12938645 1.50158541 1.02459819]]\n",
      "\n",
      " [[1.17513407 1.78920695 1.37985644 1.36635758 1.57338747]\n",
      "  [1.15000913 1.73020715 1.62871491 1.50235813 1.07298249]\n",
      "  [1.47799292 1.69468082 1.01662388 1.90228398 1.97277774]]]\n"
     ]
    }
   ],
   "source": [
    "#11. Print a and d. Notice the difference and relation of the two array in terms of the values? Explain.\n",
    "\n",
    "print(a)\n",
    "print(d)\n",
    "\n",
    "#D is the addition of a and c, thus, d is the same as a summing up 1."
   ]
  },
  {
   "cell_type": "code",
   "execution_count": 12,
   "metadata": {},
   "outputs": [],
   "source": [
    "#12. Multiply a and c. Assign the result to e.\n",
    "\n",
    "e = np.multiply(a,c)"
   ]
  },
  {
   "cell_type": "code",
   "execution_count": 13,
   "metadata": {},
   "outputs": [
    {
     "name": "stdout",
     "output_type": "stream",
     "text": [
      "Yes, they are equal.\n"
     ]
    }
   ],
   "source": [
    "#13. Does e equal to a? Why or why not?\n",
    "if e.all() == a.all():\n",
    "    print('Yes, they are equal.')\n",
    "else:\n",
    "    print(\"No, they don't.\")"
   ]
  },
  {
   "cell_type": "code",
   "execution_count": 14,
   "metadata": {},
   "outputs": [],
   "source": [
    "##14. Identify the max, min, and mean values in d. Assign those values to variables \"d_max\", \"d_min\", and \"d_mean\"\n",
    "\n",
    "d_max = d.max()\n",
    "d_mean = d.mean()\n",
    "d_min = d.min()"
   ]
  },
  {
   "cell_type": "code",
   "execution_count": 15,
   "metadata": {},
   "outputs": [
    {
     "name": "stdout",
     "output_type": "stream",
     "text": [
      "[[[1.57017325 1.25472743 1.89889636 1.06817568 1.616095  ]\n",
      "  [1.82009578 1.97993423 1.00969187 1.84094895 1.82068187]\n",
      "  [1.56071504 1.55910263 1.12938645 1.50158541 1.02459819]]\n",
      "\n",
      " [[1.17513407 1.78920695 1.37985644 1.36635758 1.57338747]\n",
      "  [1.15000913 1.73020715 1.62871491 1.50235813 1.07298249]\n",
      "  [1.47799292 1.69468082 1.01662388 1.90228398 1.97277774]]]\n"
     ]
    }
   ],
   "source": [
    "#15. Now we want to label the values in d. First create an empty array \"f\" with the same shape (i.e. 2x3x5) as d using `np.empty`.\n",
    "\n",
    "f = np.empty((2,3,5))\n",
    "print(f)"
   ]
  },
  {
   "cell_type": "code",
   "execution_count": 16,
   "metadata": {},
   "outputs": [
    {
     "name": "stdout",
     "output_type": "stream",
     "text": [
      "[[[1.57017325 1.25472743 1.89889636 1.06817568 1.616095  ]\n",
      "  [1.82009578 1.97993423 1.00969187 1.84094895 1.82068187]\n",
      "  [1.56071504 1.55910263 1.12938645 1.50158541 1.02459819]]\n",
      "\n",
      " [[1.17513407 1.78920695 1.37985644 1.36635758 1.57338747]\n",
      "  [1.15000913 1.73020715 1.62871491 1.50235813 1.07298249]\n",
      "  [1.47799292 1.69468082 1.01662388 1.90228398 1.97277774]]]\n"
     ]
    }
   ],
   "source": [
    "print(d)"
   ]
  },
  {
   "cell_type": "code",
   "execution_count": 17,
   "metadata": {},
   "outputs": [
    {
     "data": {
      "text/plain": [
       "[25, 25, 999, 75, 75]"
      ]
     },
     "execution_count": 17,
     "metadata": {},
     "output_type": "execute_result"
    }
   ],
   "source": [
    "[25 if n < 3 else 75 if n > 3 else 999 for n in [1, 2, 3, 4, 5]]"
   ]
  },
  {
   "cell_type": "code",
   "execution_count": 18,
   "metadata": {},
   "outputs": [],
   "source": [
    "#16\n",
    "list_f = [25 if y < d_mean and y > d_min else 75 if y > d_mean and y < d_max else 0 if y == d_min else 100 for i in d for x in i for y in x]\n",
    "\n",
    "\n",
    "f = np.reshape(list_f,(2,3,5))"
   ]
  },
  {
   "cell_type": "code",
   "execution_count": 19,
   "metadata": {},
   "outputs": [
    {
     "name": "stdout",
     "output_type": "stream",
     "text": [
      "[[[1.57017325 1.25472743 1.89889636 1.06817568 1.616095  ]\n",
      "  [1.82009578 1.97993423 1.00969187 1.84094895 1.82068187]\n",
      "  [1.56071504 1.55910263 1.12938645 1.50158541 1.02459819]]\n",
      "\n",
      " [[1.17513407 1.78920695 1.37985644 1.36635758 1.57338747]\n",
      "  [1.15000913 1.73020715 1.62871491 1.50235813 1.07298249]\n",
      "  [1.47799292 1.69468082 1.01662388 1.90228398 1.97277774]]]\n",
      "[[[ 75  25  75  25  75]\n",
      "  [ 75 100   0  75  75]\n",
      "  [ 75  75  25  25  25]]\n",
      "\n",
      " [[ 25  75  25  25  75]\n",
      "  [ 25  75  75  25  25]\n",
      "  [ 25  75  25  75  75]]]\n"
     ]
    }
   ],
   "source": [
    "#17\n",
    "print(d)\n",
    "print(f)"
   ]
  },
  {
   "cell_type": "code",
   "execution_count": 20,
   "metadata": {},
   "outputs": [
    {
     "name": "stdout",
     "output_type": "stream",
     "text": [
      "[[['D' 'B' 'D' 'B' 'D']\n",
      "  ['D' 'E' 'A' 'D' 'D']\n",
      "  ['D' 'D' 'B' 'B' 'B']]\n",
      "\n",
      " [['B' 'D' 'B' 'B' 'D']\n",
      "  ['B' 'D' 'D' 'B' 'B']\n",
      "  ['B' 'D' 'B' 'D' 'D']]]\n"
     ]
    }
   ],
   "source": [
    "#18\n",
    "list_j = ['B' if y < d_mean and y > d_min else 'D' if y > d_mean and y < d_max else 'A' if y == d_min else 'E' for i in d for x in i for y in x]\n",
    "\n",
    "\n",
    "j = np.reshape(list_j,(2,3,5))\n",
    "print(j)"
   ]
  },
  {
   "cell_type": "markdown",
   "metadata": {},
   "source": [
    "\n",
    "\"\"\"\n",
    "#16. Populate the values in f. For each value in d, if it's larger than d_min but smaller than d_mean, assign 25 to the corresponding value in f.\n",
    "If a value in d is larger than d_mean but smaller than d_max, assign 75 to the corresponding value in f.\n",
    "If a value equals to d_mean, assign 50 to the corresponding value in f.\n",
    "Assign 0 to the corresponding value(s) in f for d_min in d.\n",
    "Assign 100 to the corresponding value(s) in f for d_max in d.\n",
    "In the end, f should have only the following values: 0, 25, 50, 75, and 100.\n",
    "Note: you don't have to use Numpy in this question.\n",
    "\"\"\"\n",
    "\n",
    "\n",
    "\n",
    "\n",
    "\"\"\"\n",
    "#17. Print d and f. Do you have your expected f?\n",
    "For instance, if your d is:\n",
    "array([[[1.85836099, 1.67064465, 1.62576044, 1.40243961, 1.88454931],\n",
    "        [1.75354326, 1.69403643, 1.36729252, 1.61415071, 1.12104981],\n",
    "        [1.72201435, 1.1862918 , 1.87078449, 1.7726778 , 1.88180042]],\n",
    "\n",
    "       [[1.44747908, 1.31673383, 1.02000951, 1.52218947, 1.97066381],\n",
    "        [1.79129243, 1.74983003, 1.96028037, 1.85166831, 1.65450881],\n",
    "        [1.18068344, 1.9587381 , 1.00656599, 1.93402165, 1.73514584]]])\n",
    "\n",
    "Your f should be:\n",
    "array([[[ 75.,  75.,  75.,  25.,  75.],\n",
    "        [ 75.,  75.,  25.,  25.,  25.],\n",
    "        [ 75.,  25.,  75.,  75.,  75.]],\n",
    "\n",
    "       [[ 25.,  25.,  25.,  25., 100.],\n",
    "        [ 75.,  75.,  75.,  75.,  75.],\n",
    "        [ 25.,  75.,   0.,  75.,  75.]]])\n",
    "\"\"\"\n",
    "\n",
    "\n",
    "\"\"\"\n",
    "#18. Bonus question: instead of using numbers (i.e. 0, 25, 50, 75, and 100), how to use string values \n",
    "(\"A\", \"B\", \"C\", \"D\", and \"E\") to label the array elements? You are expecting the result to be:\n",
    "array([[[ 'D',  'D',  'D',  'B',  'D'],\n",
    "        [ 'D',  'D',  'B',  'B',  'B'],\n",
    "        [ 'D',  'B',  'D',  'D',  'D']],\n",
    "\n",
    "       [[ 'B',  'B',  'B',  'B',  'E'],\n",
    "        [ 'D',  'D',  'D',  'D',  'D'],\n",
    "        [ 'B',  'D',   'A',  'D', 'D']]])\n",
    "Again, you don't need Numpy in this question.\n",
    "\"\"\""
   ]
  },
  {
   "cell_type": "code",
   "execution_count": null,
   "metadata": {},
   "outputs": [],
   "source": []
  }
 ],
 "metadata": {
  "kernelspec": {
   "display_name": "Python [conda env:data_env]",
   "language": "python",
   "name": "conda-env-data_env-py"
  },
  "language_info": {
   "codemirror_mode": {
    "name": "ipython",
    "version": 3
   },
   "file_extension": ".py",
   "mimetype": "text/x-python",
   "name": "python",
   "nbconvert_exporter": "python",
   "pygments_lexer": "ipython3",
   "version": "3.7.5"
  }
 },
 "nbformat": 4,
 "nbformat_minor": 4
}
