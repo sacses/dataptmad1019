{
 "cells": [
  {
   "cell_type": "markdown",
   "metadata": {},
   "source": [
    "# Challenge: Promotions\n",
    "\n",
    "In this challenge, you'll develop codes to parse and analyze data returned from another API on Zalando such as [Promos homme (Men's Promotions)\n",
    "](https://www.zalando.fr/promo-homme/) or [Promos femme (Women's Promotions)](https://www.zalando.fr/promo-femme/). The workflow is almost the same as in the guided lesson but you'll work with different data."
   ]
  },
  {
   "cell_type": "markdown",
   "metadata": {},
   "source": [
    "## Obtaining the link\n",
    "\n",
    "Wrote your codes in the cell below to obtain the data from the API endpoint you choose. A recap of the workflow:\n",
    "\n",
    "1. Examine the webpages and choose one that you want to work with.\n",
    "\n",
    "1. Use Google Chrome's DevTools to inspect the XHR network requests. Find out the API endpoint that serves data to the webpage.\n",
    "\n",
    "1. Test the API endpoint in the browser to verify its data.\n",
    "\n",
    "1. Change the page number offset of the API URL to test if it's working."
   ]
  },
  {
   "cell_type": "code",
   "execution_count": 1,
   "metadata": {},
   "outputs": [],
   "source": [
    "# your code here\n",
    "\n",
    "url = 'https://www.zalando.fr/api/catalog/articles?categories=promo-homme&limit=84&offset=84&sort=popularity'"
   ]
  },
  {
   "cell_type": "code",
   "execution_count": 2,
   "metadata": {},
   "outputs": [],
   "source": [
    "# your code here\n",
    "import json\n",
    "import requests\n",
    "import pandas as pd\n",
    "from pandas.io.json import json_normalize"
   ]
  },
  {
   "cell_type": "code",
   "execution_count": 3,
   "metadata": {},
   "outputs": [],
   "source": [
    "headers = \\\n",
    "{\"User-Agent\":\"Mozilla/5.0 (Windows NT 6.1; Win64; x64; rv:47.0) Gecko/20100101 Firefox/47.0\"}\n",
    "response = requests.get(url, headers=headers)"
   ]
  },
  {
   "cell_type": "markdown",
   "metadata": {},
   "source": [
    "## Reading the data\n",
    "\n",
    "In the next cell, use Python to obtain data from the API endpoint you chose in the previous step. Workflow:\n",
    "\n",
    "1. Import libraries.\n",
    "\n",
    "1. Define the initial API endpoint URL.\n",
    "\n",
    "1. Make request to obtain data of the 1st page. Flatten the data and store it in an empty object variable.\n",
    "\n",
    "1. Find out the total page count in the 1st page data.\n",
    "\n",
    "1. Use a FOR loop to make requests for the additional pages from 2 to page count. Append the data of each additional page to the flatterned data object.\n",
    "\n",
    "1. Print and review the data you obtained."
   ]
  },
  {
   "cell_type": "code",
   "execution_count": 4,
   "metadata": {},
   "outputs": [],
   "source": [
    "results = response.json()"
   ]
  },
  {
   "cell_type": "code",
   "execution_count": 5,
   "metadata": {},
   "outputs": [
    {
     "data": {
      "text/plain": [
       "sku                                          84\n",
       "name                                         84\n",
       "sizes                                        84\n",
       "url_key                                      84\n",
       "media                                        84\n",
       "brand_name                                   84\n",
       "is_premium                                   84\n",
       "family_articles                              84\n",
       "flags                                        84\n",
       "product_group                                84\n",
       "delivery_promises                            84\n",
       "price.original                               84\n",
       "price.promotional                            84\n",
       "price.has_different_prices                   84\n",
       "price.has_different_original_prices          84\n",
       "price.has_different_promotional_prices       84\n",
       "price.has_discount_on_selected_sizes_only    84\n",
       "outfits                                       2\n",
       "dtype: int64"
      ]
     },
     "execution_count": 5,
     "metadata": {},
     "output_type": "execute_result"
    }
   ],
   "source": [
    "flattened_data = json_normalize(results)\n",
    "first_page_data = json_normalize(flattened_data.articles[0])\n",
    "first_page_data.count()\n",
    "#Total page count is 84 sku, similar to the maximum number of items per page"
   ]
  },
  {
   "cell_type": "code",
   "execution_count": 6,
   "metadata": {},
   "outputs": [
    {
     "data": {
      "text/html": [
       "<div>\n",
       "<style scoped>\n",
       "    .dataframe tbody tr th:only-of-type {\n",
       "        vertical-align: middle;\n",
       "    }\n",
       "\n",
       "    .dataframe tbody tr th {\n",
       "        vertical-align: top;\n",
       "    }\n",
       "\n",
       "    .dataframe thead th {\n",
       "        text-align: right;\n",
       "    }\n",
       "</style>\n",
       "<table border=\"1\" class=\"dataframe\">\n",
       "  <thead>\n",
       "    <tr style=\"text-align: right;\">\n",
       "      <th></th>\n",
       "      <th>sku</th>\n",
       "      <th>name</th>\n",
       "      <th>sizes</th>\n",
       "      <th>url_key</th>\n",
       "      <th>media</th>\n",
       "      <th>brand_name</th>\n",
       "      <th>is_premium</th>\n",
       "      <th>family_articles</th>\n",
       "      <th>flags</th>\n",
       "      <th>product_group</th>\n",
       "      <th>delivery_promises</th>\n",
       "      <th>price.original</th>\n",
       "      <th>price.promotional</th>\n",
       "      <th>price.has_different_prices</th>\n",
       "      <th>price.has_different_original_prices</th>\n",
       "      <th>price.has_different_promotional_prices</th>\n",
       "      <th>price.has_discount_on_selected_sizes_only</th>\n",
       "      <th>outfits</th>\n",
       "    </tr>\n",
       "  </thead>\n",
       "  <tbody>\n",
       "    <tr>\n",
       "      <th>0</th>\n",
       "      <td>R0622E00U-K11</td>\n",
       "      <td>DAVE PANTS - Pantalon cargo - navy</td>\n",
       "      <td>[XS, S, M, XL, XXL]</td>\n",
       "      <td>redefined-rebel-pantalon-cargo-navy-r0622e00u-k11</td>\n",
       "      <td>[{'path': 'R0/62/2E/00/UK/11/R0622E00U-K11@4.j...</td>\n",
       "      <td>Redefined Rebel</td>\n",
       "      <td>False</td>\n",
       "      <td>[]</td>\n",
       "      <td>[{'key': 'campaign', 'value': '-20% EXTRA', 't...</td>\n",
       "      <td>clothing</td>\n",
       "      <td>[]</td>\n",
       "      <td>29,95 €</td>\n",
       "      <td>26,95 €</td>\n",
       "      <td>False</td>\n",
       "      <td>False</td>\n",
       "      <td>False</td>\n",
       "      <td>False</td>\n",
       "      <td>NaN</td>\n",
       "    </tr>\n",
       "    <tr>\n",
       "      <th>1</th>\n",
       "      <td>TOB22O01B-Q11</td>\n",
       "      <td>ORIGINAL SLIM FIT - T-shirt à manches longues ...</td>\n",
       "      <td>[XS, S, M, L, XL, XXL]</td>\n",
       "      <td>tommy-jeans-original-t-shirt-a-manches-longues...</td>\n",
       "      <td>[{'path': 'TO/B2/2O/01/BQ/11/TOB22O01B-Q11@8.j...</td>\n",
       "      <td>Tommy Jeans</td>\n",
       "      <td>False</td>\n",
       "      <td>[]</td>\n",
       "      <td>[{'key': 'campaign', 'value': '-20% EXTRA', 't...</td>\n",
       "      <td>clothing</td>\n",
       "      <td>[]</td>\n",
       "      <td>34,95 €</td>\n",
       "      <td>27,95 €</td>\n",
       "      <td>False</td>\n",
       "      <td>False</td>\n",
       "      <td>False</td>\n",
       "      <td>False</td>\n",
       "      <td>NaN</td>\n",
       "    </tr>\n",
       "    <tr>\n",
       "      <th>2</th>\n",
       "      <td>TOB22O04X-Q11</td>\n",
       "      <td>BADGE TEE - T-shirt basique - black</td>\n",
       "      <td>[XS, S, M, L, XL, XXL]</td>\n",
       "      <td>tommy-jeans-badge-tee-t-shirt-basique-tob22o04...</td>\n",
       "      <td>[{'path': 'TO/B2/2O/04/XQ/11/TOB22O04X-Q11@9.j...</td>\n",
       "      <td>Tommy Jeans</td>\n",
       "      <td>False</td>\n",
       "      <td>[]</td>\n",
       "      <td>[{'key': 'campaign', 'value': '-20% EXTRA', 't...</td>\n",
       "      <td>clothing</td>\n",
       "      <td>[]</td>\n",
       "      <td>39,95 €</td>\n",
       "      <td>19,95 €</td>\n",
       "      <td>False</td>\n",
       "      <td>False</td>\n",
       "      <td>False</td>\n",
       "      <td>False</td>\n",
       "      <td>NaN</td>\n",
       "    </tr>\n",
       "    <tr>\n",
       "      <th>3</th>\n",
       "      <td>NI122S0AT-Q11</td>\n",
       "      <td>CLUB - Sweatshirt - black/white</td>\n",
       "      <td>[XS, M, L, XL, XXL]</td>\n",
       "      <td>nike-sportswear-club-sweatshirt-blackwhite-ni1...</td>\n",
       "      <td>[{'path': 'NI/12/2S/0A/TQ/11/NI122S0AT-Q11@12....</td>\n",
       "      <td>Nike Sportswear</td>\n",
       "      <td>False</td>\n",
       "      <td>[]</td>\n",
       "      <td>[]</td>\n",
       "      <td>clothing</td>\n",
       "      <td>[]</td>\n",
       "      <td>39,90 €</td>\n",
       "      <td>38,90 €</td>\n",
       "      <td>True</td>\n",
       "      <td>False</td>\n",
       "      <td>True</td>\n",
       "      <td>False</td>\n",
       "      <td>NaN</td>\n",
       "    </tr>\n",
       "    <tr>\n",
       "      <th>4</th>\n",
       "      <td>VA215B000-Q12</td>\n",
       "      <td>OLD SKOOL - Chaussures de skate - black</td>\n",
       "      <td>[34.5, 35, 36, 36.5, 37, 38, 38.5, 39, 40, 40....</td>\n",
       "      <td>vans-old-skool-baskets-basses-va215b000-q12</td>\n",
       "      <td>[{'path': 'VA/21/5B/00/0Q/12/VA215B000-Q12@12....</td>\n",
       "      <td>Vans</td>\n",
       "      <td>False</td>\n",
       "      <td>[]</td>\n",
       "      <td>[{'key': 'campaign', 'value': '-20% EXTRA', 't...</td>\n",
       "      <td>shoe</td>\n",
       "      <td>[]</td>\n",
       "      <td>74,95 €</td>\n",
       "      <td>67,45 €</td>\n",
       "      <td>False</td>\n",
       "      <td>False</td>\n",
       "      <td>False</td>\n",
       "      <td>False</td>\n",
       "      <td>[{'id': 'nmnnhTu7SCu', 'url_key': '/outfits/nm...</td>\n",
       "    </tr>\n",
       "  </tbody>\n",
       "</table>\n",
       "</div>"
      ],
      "text/plain": [
       "             sku                                               name  \\\n",
       "0  R0622E00U-K11                 DAVE PANTS - Pantalon cargo - navy   \n",
       "1  TOB22O01B-Q11  ORIGINAL SLIM FIT - T-shirt à manches longues ...   \n",
       "2  TOB22O04X-Q11                BADGE TEE - T-shirt basique - black   \n",
       "3  NI122S0AT-Q11                    CLUB - Sweatshirt - black/white   \n",
       "4  VA215B000-Q12            OLD SKOOL - Chaussures de skate - black   \n",
       "\n",
       "                                               sizes  \\\n",
       "0                                [XS, S, M, XL, XXL]   \n",
       "1                             [XS, S, M, L, XL, XXL]   \n",
       "2                             [XS, S, M, L, XL, XXL]   \n",
       "3                                [XS, M, L, XL, XXL]   \n",
       "4  [34.5, 35, 36, 36.5, 37, 38, 38.5, 39, 40, 40....   \n",
       "\n",
       "                                             url_key  \\\n",
       "0  redefined-rebel-pantalon-cargo-navy-r0622e00u-k11   \n",
       "1  tommy-jeans-original-t-shirt-a-manches-longues...   \n",
       "2  tommy-jeans-badge-tee-t-shirt-basique-tob22o04...   \n",
       "3  nike-sportswear-club-sweatshirt-blackwhite-ni1...   \n",
       "4        vans-old-skool-baskets-basses-va215b000-q12   \n",
       "\n",
       "                                               media       brand_name  \\\n",
       "0  [{'path': 'R0/62/2E/00/UK/11/R0622E00U-K11@4.j...  Redefined Rebel   \n",
       "1  [{'path': 'TO/B2/2O/01/BQ/11/TOB22O01B-Q11@8.j...      Tommy Jeans   \n",
       "2  [{'path': 'TO/B2/2O/04/XQ/11/TOB22O04X-Q11@9.j...      Tommy Jeans   \n",
       "3  [{'path': 'NI/12/2S/0A/TQ/11/NI122S0AT-Q11@12....  Nike Sportswear   \n",
       "4  [{'path': 'VA/21/5B/00/0Q/12/VA215B000-Q12@12....             Vans   \n",
       "\n",
       "   is_premium family_articles  \\\n",
       "0       False              []   \n",
       "1       False              []   \n",
       "2       False              []   \n",
       "3       False              []   \n",
       "4       False              []   \n",
       "\n",
       "                                               flags product_group  \\\n",
       "0  [{'key': 'campaign', 'value': '-20% EXTRA', 't...      clothing   \n",
       "1  [{'key': 'campaign', 'value': '-20% EXTRA', 't...      clothing   \n",
       "2  [{'key': 'campaign', 'value': '-20% EXTRA', 't...      clothing   \n",
       "3                                                 []      clothing   \n",
       "4  [{'key': 'campaign', 'value': '-20% EXTRA', 't...          shoe   \n",
       "\n",
       "  delivery_promises price.original price.promotional  \\\n",
       "0                []        29,95 €           26,95 €   \n",
       "1                []        34,95 €           27,95 €   \n",
       "2                []        39,95 €           19,95 €   \n",
       "3                []        39,90 €           38,90 €   \n",
       "4                []        74,95 €           67,45 €   \n",
       "\n",
       "   price.has_different_prices  price.has_different_original_prices  \\\n",
       "0                       False                                False   \n",
       "1                       False                                False   \n",
       "2                       False                                False   \n",
       "3                        True                                False   \n",
       "4                       False                                False   \n",
       "\n",
       "   price.has_different_promotional_prices  \\\n",
       "0                                   False   \n",
       "1                                   False   \n",
       "2                                   False   \n",
       "3                                    True   \n",
       "4                                   False   \n",
       "\n",
       "   price.has_discount_on_selected_sizes_only  \\\n",
       "0                                      False   \n",
       "1                                      False   \n",
       "2                                      False   \n",
       "3                                      False   \n",
       "4                                      False   \n",
       "\n",
       "                                             outfits  \n",
       "0                                                NaN  \n",
       "1                                                NaN  \n",
       "2                                                NaN  \n",
       "3                                                NaN  \n",
       "4  [{'id': 'nmnnhTu7SCu', 'url_key': '/outfits/nm...  "
      ]
     },
     "execution_count": 6,
     "metadata": {},
     "output_type": "execute_result"
    }
   ],
   "source": [
    "df = pd.DataFrame()\n",
    "for i in [0,1]:\n",
    "    k=84*i\n",
    "    url_2 =f'https://www.zalando.fr/api/catalog/articles?categories=promo-homme&limit=84&offset={k}&sort=popularity'\n",
    "    response_2 = requests.get(url_2, headers=headers)\n",
    "    results_2 = response_2.json()\n",
    "    flattened_data_2 = json_normalize(results_2)\n",
    "    flattened_data_2_2 = json_normalize(flattened_data_2.articles[0])\n",
    "    df = df.append(flattened_data_2_2)\n",
    "    \n",
    "df.head()"
   ]
  },
  {
   "cell_type": "markdown",
   "metadata": {},
   "source": [
    "## Bonus\n",
    "\n",
    "Extract the following information from the data:\n",
    "\n",
    "* The trending brand.\n",
    "\n",
    "* The product(s) with the highest discount.\n",
    "\n",
    "* The sum of discounts of all goods (sum_discounted_prices divided by sum_original_prices)."
   ]
  },
  {
   "cell_type": "code",
   "execution_count": 57,
   "metadata": {},
   "outputs": [
    {
     "data": {
      "text/plain": [
       "brand_name\n",
       "Nike Sportswear    42\n",
       "Name: sku, dtype: int64"
      ]
     },
     "execution_count": 57,
     "metadata": {},
     "output_type": "execute_result"
    }
   ],
   "source": [
    "# your code here\n",
    "#Below the most trending brand\n",
    "df.groupby('brand_name').count().sku.nlargest(1)\n",
    "\n",
    "#df.groupby('sku').max()"
   ]
  },
  {
   "cell_type": "code",
   "execution_count": 13,
   "metadata": {},
   "outputs": [
    {
     "data": {
      "text/plain": [
       "price.original       object\n",
       "price.promotional    object\n",
       "dtype: object"
      ]
     },
     "execution_count": 13,
     "metadata": {},
     "output_type": "execute_result"
    }
   ],
   "source": [
    "df[['price.original','price.promotional']].dtypes"
   ]
  },
  {
   "cell_type": "code",
   "execution_count": 34,
   "metadata": {},
   "outputs": [],
   "source": [
    "df['price.original']= df['price.original'].apply(lambda x: x.replace(',','.'))\\\n",
    ".astype(float)"
   ]
  },
  {
   "cell_type": "code",
   "execution_count": null,
   "metadata": {},
   "outputs": [],
   "source": [
    "df['price.promotional'] = df['price.promotional'].apply(lambda x: x.replace(',','.'))\n",
    "df['price.promotional'] = df['price.promotional'].apply(lambda x: x.replace('€',''))\\\n",
    "                            .astype(float)\n",
    "df['price.promotional']"
   ]
  },
  {
   "cell_type": "code",
   "execution_count": 39,
   "metadata": {},
   "outputs": [],
   "source": [
    "#Obtaining discount\n",
    "df['discount'] = (df['price.original'] - df['price.promotional'])\\\n",
    "                    / df['price.original'] * 100"
   ]
  },
  {
   "cell_type": "code",
   "execution_count": 71,
   "metadata": {},
   "outputs": [
    {
     "data": {
      "text/html": [
       "<div>\n",
       "<style scoped>\n",
       "    .dataframe tbody tr th:only-of-type {\n",
       "        vertical-align: middle;\n",
       "    }\n",
       "\n",
       "    .dataframe tbody tr th {\n",
       "        vertical-align: top;\n",
       "    }\n",
       "\n",
       "    .dataframe thead th {\n",
       "        text-align: right;\n",
       "    }\n",
       "</style>\n",
       "<table border=\"1\" class=\"dataframe\">\n",
       "  <thead>\n",
       "    <tr style=\"text-align: right;\">\n",
       "      <th></th>\n",
       "      <th>sku</th>\n",
       "      <th>discount</th>\n",
       "    </tr>\n",
       "  </thead>\n",
       "  <tbody>\n",
       "    <tr>\n",
       "      <th>53</th>\n",
       "      <td>NI112O093-H11</td>\n",
       "      <td>50.420168</td>\n",
       "    </tr>\n",
       "    <tr>\n",
       "      <th>24</th>\n",
       "      <td>NI112O08W-G11</td>\n",
       "      <td>50.420168</td>\n",
       "    </tr>\n",
       "    <tr>\n",
       "      <th>46</th>\n",
       "      <td>A0F22O03Y-A11</td>\n",
       "      <td>50.108932</td>\n",
       "    </tr>\n",
       "    <tr>\n",
       "      <th>63</th>\n",
       "      <td>EL922F00L-Q11</td>\n",
       "      <td>50.089445</td>\n",
       "    </tr>\n",
       "  </tbody>\n",
       "</table>\n",
       "</div>"
      ],
      "text/plain": [
       "              sku   discount\n",
       "53  NI112O093-H11  50.420168\n",
       "24  NI112O08W-G11  50.420168\n",
       "46  A0F22O03Y-A11  50.108932\n",
       "63  EL922F00L-Q11  50.089445"
      ]
     },
     "execution_count": 71,
     "metadata": {},
     "output_type": "execute_result"
    }
   ],
   "source": [
    "#This is the top 4 SKUs with the highest discount. We see that two of them have\n",
    "#the same maximum discount\n",
    "df[['sku','discount']].nlargest(4,'discount')"
   ]
  },
  {
   "cell_type": "code",
   "execution_count": 73,
   "metadata": {},
   "outputs": [
    {
     "data": {
      "text/plain": [
       "31.738587014987075"
      ]
     },
     "execution_count": 73,
     "metadata": {},
     "output_type": "execute_result"
    }
   ],
   "source": [
    "#Getting the average discount for the whole dataframe\n",
    "avg_discount = (df['price.original'].sum() - df['price.promotional'].sum())\\\n",
    "                    / df['price.original'].sum() * 100\n",
    "\n",
    "avg_discount"
   ]
  }
 ],
 "metadata": {
  "kernelspec": {
   "display_name": "Python [conda env:data_env]",
   "language": "python",
   "name": "conda-env-data_env-py"
  },
  "language_info": {
   "codemirror_mode": {
    "name": "ipython",
    "version": 3
   },
   "file_extension": ".py",
   "mimetype": "text/x-python",
   "name": "python",
   "nbconvert_exporter": "python",
   "pygments_lexer": "ipython3",
   "version": "3.7.5"
  }
 },
 "nbformat": 4,
 "nbformat_minor": 4
}
