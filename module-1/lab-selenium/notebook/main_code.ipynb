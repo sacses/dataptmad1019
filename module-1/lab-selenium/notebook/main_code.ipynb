{
 "cells": [
  {
   "cell_type": "code",
   "execution_count": 2,
   "metadata": {},
   "outputs": [],
   "source": [
    "import os\n",
    "\n",
    "os.environ['PATH'] = f'{os.environ[\"PATH\"]}:/home/fran/IronhackMad/dataptmad1019/module-1/lab-selenium/driver'"
   ]
  },
  {
   "cell_type": "code",
   "execution_count": null,
   "metadata": {},
   "outputs": [],
   "source": [
    "os.environ['PATH']"
   ]
  },
  {
   "cell_type": "code",
   "execution_count": 244,
   "metadata": {},
   "outputs": [],
   "source": [
    "from selenium import webdriver\n",
    "import re\n",
    "import pandas as pd\n",
    "import numpy as np"
   ]
  },
  {
   "cell_type": "code",
   "execution_count": 4,
   "metadata": {},
   "outputs": [],
   "source": [
    "import datetime\n",
    "\n",
    "ORIGIN = 'MADRID'\n",
    "DESTINATION = 'VALENCIA'\n",
    "\n",
    "# tickets for tomorrow\n",
    "DATE = (datetime.date.today() + datetime.timedelta(days=1)).strftime('%d/%m/%Y')"
   ]
  },
  {
   "cell_type": "code",
   "execution_count": 47,
   "metadata": {},
   "outputs": [
    {
     "name": "stdout",
     "output_type": "stream",
     "text": [
      "https://venta.renfe.com/vol/search.do?c=_OveS\n"
     ]
    }
   ],
   "source": [
    "from selenium.webdriver.common.keys import Keys\n",
    "from selenium.webdriver.common.by import By\n",
    "from selenium.webdriver.support.ui import WebDriverWait\n",
    "from selenium.webdriver.support import expected_conditions as EC\n",
    "import time\n",
    "import requests\n",
    "\n",
    "browser = webdriver.Firefox()\n",
    "browser.get('http://www.renfe.com/')\n",
    "\n",
    "origin = browser.find_element_by_name('desOrigen')\n",
    "origin.send_keys(ORIGIN)\n",
    "origin.send_keys(Keys.ARROW_DOWN)\n",
    "origin.send_keys(Keys.ENTER)\n",
    "\n",
    "destination = browser.find_element_by_name('desDestino')\n",
    "destination.send_keys(DESTINATION)\n",
    "destination.send_keys(Keys.ARROW_DOWN)\n",
    "destination.send_keys(Keys.ENTER)\n",
    "\n",
    "date = browser.find_element_by_name('__fechaIdaVisual')\n",
    "date.send_keys(Keys.BACK_SPACE * 10)\n",
    "date.send_keys(DATE)\n",
    "\n",
    "destination.send_keys(Keys.ENTER)\n",
    "\n",
    "element = WebDriverWait(browser, 60).until(EC.presence_of_element_located((By.ID, \"listaTrenesTBodyIda\")))\n",
    "new_url = browser.current_url\n",
    "print(new_url)\n",
    "#html = requests.get(new_url).content\n",
    "#soup = BeautifulSoup(html, \"lxml\")\n",
    "#table_id = browser.find_element(By.ID, 'listaTrenesTBodyIda')\n",
    "target_table = browser.find_element_by_xpath(\"//*[@id='listaTrenesTBodyIda']\")\n",
    "time.sleep(4)\n",
    "#rows = target_table.find_elements(By.TAG_NAME, 'tr')\n",
    "rows_trains = target_table.find_elements_by_xpath(\"//*[contains(@id,'tren')]\")\n",
    "rows_parsed = [i.get_attribute('innerHTML') for i in rows_trains]\n",
    "#for i in rows_trains:\n",
    "    #rows_parsed.append(i.get_attribute('innerHTML'))\n",
    "    \n",
    "browser.close()"
   ]
  },
  {
   "cell_type": "code",
   "execution_count": 111,
   "metadata": {},
   "outputs": [],
   "source": [
    "def departure(x):\n",
    "    return re.findall('salida\\\">(\\d+.\\d+)', x)\n",
    "def arrival(x):\n",
    "    return re.findall('llegada\\\">(\\d+.\\d+)', x)\n",
    "def duration(x):\n",
    "    return re.findall('span\\>(\\d \\w. \\d* min)', x)\n",
    "def service(x):\n",
    "    return re.findall('span\\>([A-Z]{2,}-?[A-Z]*)', x)\n",
    "def price(x):\n",
    "    return re.findall('alse\\\">(\\d+,?\\d*)', x)\n",
    "def ticket_class(x):\n",
    "    return re.findall('clase\\d*\\\">(\\w*)', x)\n",
    "def ticket_offer(x):\n",
    "    return re.findall('ifa\\d+\\\">(\\w+ ?\\w*)', x)"
   ]
  },
  {
   "cell_type": "code",
   "execution_count": 212,
   "metadata": {},
   "outputs": [],
   "source": [
    "departures = [departure(i) for i in rows_parsed]"
   ]
  },
  {
   "cell_type": "code",
   "execution_count": 246,
   "metadata": {},
   "outputs": [],
   "source": [
    "arrivals = [arrival(i) for i in rows_parsed]\n",
    "durations = [duration(i) for i in rows_parsed]\n",
    "services = [service(i) for i in rows_parsed]\n",
    "prices = [price(i) for i in rows_parsed]\n",
    "ticket_classes = [ticket_class(i) for i in rows_parsed]\n",
    "ticket_offers = [ticket_offer(i) for i in rows_parsed]"
   ]
  },
  {
   "cell_type": "code",
   "execution_count": 247,
   "metadata": {},
   "outputs": [],
   "source": [
    "df_renfe = pd.DataFrame(\n",
    "    {'departure': departures,\n",
    "     'arrival': arrivals,\n",
    "     'duration': durations,\n",
    "     'service': services,\n",
    "     'price': prices,\n",
    "     'ticket_class': ticket_classes,\n",
    "     'ticket_offer': ticket_offers\n",
    "    })"
   ]
  },
  {
   "cell_type": "code",
   "execution_count": 204,
   "metadata": {},
   "outputs": [],
   "source": [
    "col_names = df_renfe.columns.values.tolist()"
   ]
  },
  {
   "cell_type": "code",
   "execution_count": 249,
   "metadata": {},
   "outputs": [],
   "source": [
    "def replace_brackets(x, y):\n",
    "    return x[y].astype('str').str.replace('\\[|\\]|\\'', '')"
   ]
  },
  {
   "cell_type": "code",
   "execution_count": 250,
   "metadata": {},
   "outputs": [],
   "source": [
    "for i in col_names:\n",
    "    df_renfe[i] = replace_brackets(df_renfe,i)"
   ]
  },
  {
   "cell_type": "code",
   "execution_count": 262,
   "metadata": {},
   "outputs": [],
   "source": [
    "null_df_renfe = df_renfe.replace('', np.NaN)"
   ]
  },
  {
   "cell_type": "code",
   "execution_count": 264,
   "metadata": {},
   "outputs": [],
   "source": [
    "cleaned_df = null_df_renfe.dropna(how='all').reset_index(drop=True)"
   ]
  },
  {
   "cell_type": "code",
   "execution_count": 266,
   "metadata": {},
   "outputs": [],
   "source": [
    "cleaned_df.to_csv('../processed/renfe_table.csv', index=False)"
   ]
  }
 ],
 "metadata": {
  "kernelspec": {
   "display_name": "Python [conda env:data_env]",
   "language": "python",
   "name": "conda-env-data_env-py"
  },
  "language_info": {
   "codemirror_mode": {
    "name": "ipython",
    "version": 3
   },
   "file_extension": ".py",
   "mimetype": "text/x-python",
   "name": "python",
   "nbconvert_exporter": "python",
   "pygments_lexer": "ipython3",
   "version": "3.7.5"
  }
 },
 "nbformat": 4,
 "nbformat_minor": 4
}
